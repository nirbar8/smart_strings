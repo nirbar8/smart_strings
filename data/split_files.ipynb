{
 "cells": [
  {
   "attachments": {},
   "cell_type": "markdown",
   "metadata": {},
   "source": [
    "This nodebook script is used to split the dirs of the malwares and benign files.\n",
    "- Partition for strings dataset\n",
    "- Partition for model training\n",
    "- Partition for model testing\n",
    "  \n",
    "The partitions cannot be overlapping, because it can cause to unjustified better results."
   ]
  },
  {
   "cell_type": "code",
   "execution_count": 8,
   "metadata": {},
   "outputs": [],
   "source": [
    "import os\n",
    "import random\n",
    "\n",
    "try:\n",
    "    os.mkdir('floss_output')\n",
    "    os.mkdir('floss_output/benign')\n",
    "    os.mkdir('floss_output/malware')\n",
    "    os.mkdir('floss_output/benign/strings_datasets')\n",
    "    os.mkdir('floss_output/malware/strings_datasets')\n",
    "    os.mkdir('floss_output/benign/train')\n",
    "    os.mkdir('floss_output/malware/train')\n",
    "    os.mkdir('floss_output/benign/test')\n",
    "    os.mkdir('floss_output/malware/test')\n",
    "except FileExistsError:\n",
    "    pass"
   ]
  },
  {
   "cell_type": "code",
   "execution_count": 13,
   "metadata": {},
   "outputs": [
    {
     "name": "stdout",
     "output_type": "stream",
     "text": [
      "There are 450 files in processed/benign_floss_output\n",
      "There are 270 dataset files\n",
      "There are 135 train files\n",
      "There are 45 test files\n",
      "There are 450 files in processed/malware_floss_output\n",
      "There are 270 dataset files\n",
      "There are 135 train files\n",
      "There are 45 test files\n"
     ]
    }
   ],
   "source": [
    "dirs_to_split = ['processed/benign_floss_output', 'processed/malware_floss_output']\n",
    "\n",
    "for dir_to_split in dirs_to_split:\n",
    "    print(f'There are {len(os.listdir(dir_to_split))} files in {dir_to_split}')\n",
    "    files = sorted(os.listdir(dir_to_split), key=lambda x: random.random())\n",
    "    dataset_files = files[:int(len(files) * 0.6)]\n",
    "    train_files = files[int(len(files) * 0.6):int(len(files) * 0.9)]\n",
    "    test_files = files[int(len(files) * 0.9):]\n",
    "    print(f'There are {len(dataset_files)} dataset files')\n",
    "    print(f'There are {len(train_files)} train files')\n",
    "    print(f'There are {len(test_files)} test files')\n",
    "    \n",
    "    if 'malware' in dir_to_split:\n",
    "        for file in dataset_files:\n",
    "            os.rename(os.path.join(dir_to_split, file), os.path.join('floss_output/malware/strings_datasets', file))\n",
    "        for file in train_files:\n",
    "            os.rename(os.path.join(dir_to_split, file), os.path.join('floss_output/malware/train', file))\n",
    "        for file in test_files:\n",
    "            os.rename(os.path.join(dir_to_split, file), os.path.join('floss_output/malware/test', file))\n",
    "    else:\n",
    "        for file in dataset_files:\n",
    "            os.rename(os.path.join(dir_to_split, file), os.path.join('floss_output/benign/strings_datasets', file))\n",
    "        for file in train_files:\n",
    "            os.rename(os.path.join(dir_to_split, file), os.path.join('floss_output/benign/train', file))\n",
    "        for file in test_files:\n",
    "            os.rename(os.path.join(dir_to_split, file), os.path.join('floss_output/benign/test', file))\n",
    "\n",
    "\n"
   ]
  }
 ],
 "metadata": {
  "kernelspec": {
   "display_name": "Python 3",
   "language": "python",
   "name": "python3"
  },
  "language_info": {
   "codemirror_mode": {
    "name": "ipython",
    "version": 3
   },
   "file_extension": ".py",
   "mimetype": "text/x-python",
   "name": "python",
   "nbconvert_exporter": "python",
   "pygments_lexer": "ipython3",
   "version": "3.10.8"
  },
  "orig_nbformat": 4,
  "vscode": {
   "interpreter": {
    "hash": "e7370f93d1d0cde622a1f8e1c04877d8463912d04d973331ad4851f04de6915a"
   }
  }
 },
 "nbformat": 4,
 "nbformat_minor": 2
}
